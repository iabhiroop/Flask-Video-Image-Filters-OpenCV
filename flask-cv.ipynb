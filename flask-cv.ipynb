{
 "cells": [
  {
   "cell_type": "code",
   "execution_count": 1,
   "id": "c5283838",
   "metadata": {},
   "outputs": [],
   "source": [
    "import cv2\n",
    "import numpy as np\n",
    "from scipy.interpolate import UnivariateSpline\n",
    "from flask import Flask,Response,render_template,request, session\n",
    "# from flask_session import Session\n",
    "# import random\n"
   ]
  },
  {
   "cell_type": "code",
   "execution_count": null,
   "id": "c406c770",
   "metadata": {},
   "outputs": [
    {
     "name": "stdout",
     "output_type": "stream",
     "text": [
      "C:\\Users\\sreea\\Downloads\n",
      "640 480\n",
      "(320, 512, 3)\n",
      " * Serving Flask app \"__main__\" (lazy loading)\n",
      " * Environment: production\n",
      "\u001b[31m   WARNING: This is a development server. Do not use it in a production deployment.\u001b[0m\n",
      "\u001b[2m   Use a production WSGI server instead.\u001b[0m\n",
      " * Debug mode: off\n"
     ]
    },
    {
     "name": "stderr",
     "output_type": "stream",
     "text": [
      " * Running on http://127.0.0.1:5000/ (Press CTRL+C to quit)\n",
      "127.0.0.1 - - [05/Feb/2023 19:18:14] \"GET / HTTP/1.1\" 200 -\n",
      "127.0.0.1 - - [05/Feb/2023 19:18:15] \"POST /video_filters/ HTTP/1.1\" 200 -\n",
      "127.0.0.1 - - [05/Feb/2023 19:18:16] \"GET /video_filters/video_feed HTTP/1.1\" 200 -\n",
      "127.0.0.1 - - [05/Feb/2023 19:18:18] \"POST /requests/ HTTP/1.1\" 200 -\n",
      "127.0.0.1 - - [05/Feb/2023 19:18:18] \"GET /video_filters/video_feed HTTP/1.1\" 200 -\n"
     ]
    },
    {
     "name": "stdout",
     "output_type": "stream",
     "text": [
      "Cartoonify\n",
      "5\n"
     ]
    },
    {
     "name": "stderr",
     "output_type": "stream",
     "text": [
      "127.0.0.1 - - [05/Feb/2023 19:18:19] \"POST /requests/ HTTP/1.1\" 200 -\n",
      "127.0.0.1 - - [05/Feb/2023 19:18:19] \"GET /video_filters/video_feed HTTP/1.1\" 200 -\n",
      "127.0.0.1 - - [05/Feb/2023 19:18:19] \"POST /requests/ HTTP/1.1\" 200 -\n",
      "127.0.0.1 - - [05/Feb/2023 19:18:19] \"GET /video_filters/video_feed HTTP/1.1\" 200 -\n"
     ]
    },
    {
     "name": "stdout",
     "output_type": "stream",
     "text": [
      "Winter Effect\n",
      "12\n"
     ]
    },
    {
     "name": "stderr",
     "output_type": "stream",
     "text": [
      "127.0.0.1 - - [05/Feb/2023 19:18:20] \"POST /requests/ HTTP/1.1\" 200 -\n",
      "127.0.0.1 - - [05/Feb/2023 19:18:20] \"GET /video_filters/video_feed HTTP/1.1\" 200 -\n",
      "127.0.0.1 - - [05/Feb/2023 19:18:21] \"POST /image_filters/ HTTP/1.1\" 200 -\n",
      "127.0.0.1 - - [05/Feb/2023 19:18:21] \"GET /image_filters/img_share HTTP/1.1\" 200 -\n",
      "127.0.0.1 - - [05/Feb/2023 19:18:22] \"POST /requests/ HTTP/1.1\" 200 -\n",
      "127.0.0.1 - - [05/Feb/2023 19:18:22] \"GET /image_filters/img_share HTTP/1.1\" 200 -\n"
     ]
    },
    {
     "name": "stdout",
     "output_type": "stream",
     "text": [
      "Blurry View\n",
      "4\n"
     ]
    },
    {
     "name": "stderr",
     "output_type": "stream",
     "text": [
      "127.0.0.1 - - [05/Feb/2023 19:18:23] \"POST /requests/ HTTP/1.1\" 200 -\n",
      "127.0.0.1 - - [05/Feb/2023 19:18:23] \"GET /image_filters/img_share HTTP/1.1\" 200 -\n"
     ]
    },
    {
     "name": "stdout",
     "output_type": "stream",
     "text": [
      "Sharp View\n",
      "6\n"
     ]
    },
    {
     "name": "stderr",
     "output_type": "stream",
     "text": [
      "127.0.0.1 - - [05/Feb/2023 19:18:25] \"POST /requests/ HTTP/1.1\" 200 -\n",
      "127.0.0.1 - - [05/Feb/2023 19:18:32] \"POST /image_upload/ HTTP/1.1\" 200 -\n",
      "127.0.0.1 - - [05/Feb/2023 19:18:32] \"GET /image_filters/img_share HTTP/1.1\" 200 -\n"
     ]
    },
    {
     "name": "stdout",
     "output_type": "stream",
     "text": [
      "wallpaperflare.com_wallpaper (1).jpg\n",
      "(1080, 1920, 3)\n"
     ]
    },
    {
     "name": "stderr",
     "output_type": "stream",
     "text": [
      "127.0.0.1 - - [05/Feb/2023 19:18:34] \"POST /requests/ HTTP/1.1\" 200 -\n",
      "127.0.0.1 - - [05/Feb/2023 19:18:34] \"GET /image_filters/img_share HTTP/1.1\" 200 -\n"
     ]
    },
    {
     "name": "stdout",
     "output_type": "stream",
     "text": [
      "Blurry View\n",
      "4\n"
     ]
    },
    {
     "name": "stderr",
     "output_type": "stream",
     "text": [
      "127.0.0.1 - - [05/Feb/2023 19:18:34] \"POST /requests/ HTTP/1.1\" 200 -\n",
      "127.0.0.1 - - [05/Feb/2023 19:18:34] \"GET /image_filters/img_share HTTP/1.1\" 200 -\n"
     ]
    },
    {
     "name": "stdout",
     "output_type": "stream",
     "text": [
      "Summer Effect\n",
      "11\n"
     ]
    },
    {
     "name": "stderr",
     "output_type": "stream",
     "text": [
      "127.0.0.1 - - [05/Feb/2023 19:18:35] \"POST /requests/ HTTP/1.1\" 200 -\n",
      "127.0.0.1 - - [05/Feb/2023 19:18:35] \"GET /image_filters/img_share HTTP/1.1\" 200 -\n",
      "127.0.0.1 - - [05/Feb/2023 19:18:37] \"POST /exit/ HTTP/1.1\" 200 -\n"
     ]
    }
   ],
   "source": [
    "# Declare Global Variables\n",
    "v, m = 0, 0\n",
    "\n",
    "from pathlib import Path\n",
    "print(Path.cwd())\n",
    "# Dictionary with all Filters\n",
    "filters = {\"Grey Scale\":1,\"Bright Night\":2,\"Gloomy Day\":3,\"Blurry View\":4,\"Cartoonify\":5,\"Sharp View\":6,\"Nostalgia\":7,\"Pencil Sketch\":8,\"HDR Effect\":9,\"Pixel Invert\":10,\"Summer Effect\":11,\"Winter Effect\":12}\n",
    "\n",
    "\n",
    "# CV2 Video Capture \n",
    "video = cv2.VideoCapture(0)\n",
    "\n",
    "# Get width and height ofe window\n",
    "width = int(video.get(cv2.CAP_PROP_FRAME_WIDTH))\n",
    "height = int(video.get(cv2.CAP_PROP_FRAME_HEIGHT))\n",
    "print(width,height)\n",
    "# Declare default image for applying filters\n",
    "image=cv2.imread(\"cat_photos.jpg\",cv2.IMREAD_UNCHANGED)\n",
    "print(image.shape)\n",
    "# Resize input image \n",
    "image1=cv2.resize(image, (width, height))\n",
    "\n",
    "# Initialize Flask Object\n",
    "app = Flask(__name__)\n",
    "\n",
    "# Smart Phone Camera like Filters using OpenCV - Filters on Live Video\n",
    "# Listed down methods that can apply most common camera filters on either live videl or images using OpenCV\n",
    "\n",
    "# Grayscale conversion for Black & White effect\n",
    "def grayScaleFilter(image):\n",
    "    image = cv2.cvtColor(image, cv2.COLOR_BGR2GRAY)\n",
    "    return image\n",
    "\n",
    "# Brighten image pixels \n",
    "def nightBrightenerFilter(image):\n",
    "    alpha = 2 \n",
    "    beta = 0 \n",
    "    image = cv2.convertScaleAbs(image,alpha=alpha, beta=beta)\n",
    "    return image\n",
    "\n",
    "# Darken image pixels\n",
    "def DayDarkenerFilter(image):\n",
    "    alpha = 0.5\n",
    "    beta = 0 \n",
    "    image = cv2.convertScaleAbs(image,alpha=alpha, beta=beta)\n",
    "    return image\n",
    "\n",
    "# Blur an image \n",
    "def blurFilter(image):\n",
    "    ksize = (10, 10)\n",
    "    image = cv2.blur(image, ksize)\n",
    "    return image\n",
    "\n",
    "# Creating a cartoon effect on image\n",
    "# Approach : \n",
    "# ---> Convert to grayscale\n",
    "# ---> Medien Blur to reduce noise\n",
    "# ---> Locating the edges using adaptiveThreshold\n",
    "# ---> Getting a mask image by creating a bitwise and between original image and processed image\n",
    "# This creates a cartoon like effect\n",
    "def cartoonifyFilter(image):\n",
    "    org_img = cv2.bilateralFilter(image, 9, 300, 300)\n",
    "    gray = grayScaleFilter(image)\n",
    "    image1= cv2.medianBlur(gray, 3)\n",
    "    image2 = cv2.adaptiveThreshold(image1, 255, cv2.ADAPTIVE_THRESH_MEAN_C, cv2.THRESH_BINARY, 9, 9)\n",
    "    image = cv2.bitwise_and(org_img, org_img, mask=image2)\n",
    "    return image\n",
    "\n",
    "# Sharpen the image \n",
    "def sharpenImageFilter(image):\n",
    "    kernel_array = np.array([[-1, -1, -1], [-1, 9.3, -1], [-1, -1, -1]])\n",
    "    image = cv2.filter2D(image, -1, kernel_array)\n",
    "    return image\n",
    "\n",
    "# Creating a nostalgia like cool effect\n",
    "def nostalgiaFilter(image):\n",
    "    image = np.array(image, dtype=np.float64)\n",
    "    image = cv2.transform(image, np.matrix([[0.365, 0.453, 0.284],[0.764, 0.234, 0.143],[0.354, 0.785, 0.167]])) \n",
    "    image[np.where(image > 255)] = 255\n",
    "    image = np.array(image, dtype=np.uint8)\n",
    "    return image\n",
    "\n",
    "# Pencil Sketch effect\n",
    "def pencilSketchFilter(image):\n",
    "    #inbuilt function to create sketch effect in colour and greyscale\n",
    "    _, image = cv2.pencilSketch(image, sigma_s=70, sigma_r=0.06, shade_factor=0.1) \n",
    "    return  image\n",
    "\n",
    "# HDR Effect by enhancing details in the image\n",
    "def hdrEffect(image):\n",
    "    image = cv2.detailEnhance(image, sigma_s=13, sigma_r=0.17)\n",
    "    return image\n",
    "\n",
    "# Invert pixels in image\n",
    "def pixelInvertFilter(image):\n",
    "    image = cv2.bitwise_not(image)\n",
    "    return image\n",
    "\n",
    "# Increase warmth of image to give summer like light effect by increasing red channel values\n",
    "def summerEffectFilter(image):\n",
    "    inctable = UnivariateSpline([0, 64, 128, 256], [0, 70, 140, 256])(range(256))\n",
    "    dectable = UnivariateSpline([0, 64, 128, 256], [0, 60, 120, 256])(range(256))\n",
    "    blue, green,red  = cv2.split(image)\n",
    "    red = cv2.LUT(red, inctable).astype(np.uint8)\n",
    "    blue = cv2.LUT(blue, dectable).astype(np.uint8)\n",
    "    image = cv2.merge((blue, green, red ))\n",
    "    return image\n",
    "\n",
    "# Decrease warmth of image to give winter like effect by increasing blue channel values\n",
    "def winterEffectFilter(image):\n",
    "    inctable = UnivariateSpline([0, 64, 128, 256], [0, 70, 140, 256])(range(256))\n",
    "    dectable = UnivariateSpline([0, 64, 128, 256], [0, 60, 120, 256])(range(256))\n",
    "    blue, green,red  = cv2.split(image)\n",
    "    red = cv2.LUT(red, dectable).astype(np.uint8)\n",
    "    blue = cv2.LUT(blue, inctable).astype(np.uint8)\n",
    "    image = cv2.merge((blue, green, red ))\n",
    "    return image\n",
    "\n",
    "list_fil=[grayScaleFilter,nightBrightenerFilter,DayDarkenerFilter,blurFilter,cartoonifyFilter,sharpenImageFilter,nostalgiaFilter,pencilSketchFilter,\n",
    "         hdrEffect,pixelInvertFilter,summerEffectFilter,winterEffectFilter]\n",
    "# Apply Filter based on user choise to a live video\n",
    "def video_process(video):\n",
    "    while True:\n",
    "        success, image = video.read()\n",
    "        if v>0:\n",
    "            image=list_fil[v-1](image)\n",
    "\n",
    "        ret, jpeg = cv2.imencode('.jpg', image)\n",
    "        frame = jpeg.tobytes()\n",
    "        yield (b'--frame\\r\\n'\n",
    "               b'Content-Type: image/jpeg\\r\\n\\r\\n' + frame + b'\\r\\n\\r\\n')\n",
    "\n",
    "# Apply Filter based on user choise to image\n",
    "def image_process(image):\n",
    "    if v>0:\n",
    "        image=list_fil[v-1](image)\n",
    "       \n",
    "    ret, jpeg = cv2.imencode('.jpg', image)\n",
    "    frame = jpeg.tobytes()\n",
    "    yield (b'--frame\\r\\n'\n",
    "               b'Content-Type: image/jpeg\\r\\n\\r\\n' + frame + b'\\r\\n\\r\\n')\n",
    "\n",
    "# Main Landing Page\n",
    "@app.route('/')\n",
    "def index():\n",
    "    return render_template('home.html')\n",
    "\n",
    "# Video Processing Landing PAge\n",
    "@app.route(\"/video_filters/\",methods=['POST','GET'])\n",
    "def swap1():\n",
    "    global m\n",
    "    m=1\n",
    "    return render_template('video_main.html')\n",
    "\n",
    "# Video Process Filters Request\n",
    "@app.route('/video_filters/video_feed')\n",
    "def video_feed():\n",
    "    return Response(video_process(video), mimetype='multipart/x-mixed-replace; boundary=frame')\n",
    "\n",
    "# Image Processing Landing Page\n",
    "@app.route(\"/image_filters/\",methods=['POST','GET'])\n",
    "def swap2():\n",
    "    global m\n",
    "    m=2\n",
    "    return render_template('image_main.html')\n",
    "\n",
    "# Image Process Filters Request\n",
    "@app.route('/image_filters/img_share')\n",
    "def img_share():\n",
    "    global image\n",
    "    image=cv2.resize(image, (480, 480))\n",
    "    return Response(image_process(image), mimetype='multipart/x-mixed-replace; boundary=frame')\n",
    "\n",
    "# Request to Upload Image from Local Directory\n",
    "@app.route('/image_upload/',methods=['POST','GET'])\n",
    "def take_img():\n",
    "    global image\n",
    "    if request.method == 'POST':\n",
    "        f = request.files['image']\n",
    "        print(f.filename)\n",
    "        path = f.filename\n",
    "        f.save(path)\n",
    "        image=cv2.imread(path)\n",
    "        print(image.shape)\n",
    "    return render_template('image_main.html')\n",
    "\n",
    "# Choose Filter Request\n",
    "@app.route('/requests/',methods=['POST','GET'])\n",
    "def tasks():\n",
    "    global v ,image,filters\n",
    "    \n",
    "    if request.method == 'POST':\n",
    "        try:\n",
    "            req = list(request.form)[0]\n",
    "        except:\n",
    "            req = \"Reset Filters\"\n",
    "        if req in filters.keys():\n",
    "            print(req)\n",
    "            v=filters[req]\n",
    "            print(v)\n",
    "        elif request.form.get('2'):\n",
    "            return render_template('file.html')\n",
    "        else:\n",
    "            v=0\n",
    "    if m==1:\n",
    "        return render_template('video_main.html')\n",
    "    elif m==2:\n",
    "        if request.form.get('1'):\n",
    "            success, image = video.read()\n",
    "        return render_template('image_main.html')\n",
    "\n",
    "\n",
    "@app.route('/exit/',methods=['POST','GET'])\n",
    "def exit_():\n",
    "    if video is not None or video.isOpened():\n",
    "        video.release()\n",
    "    return render_template('home.html')\n",
    "\n",
    "\n",
    "if __name__ == '__main__':\n",
    "    app.run()"
   ]
  },
  {
   "cell_type": "code",
   "execution_count": null,
   "id": "65ff57c7",
   "metadata": {},
   "outputs": [],
   "source": []
  }
 ],
 "metadata": {
  "kernelspec": {
   "display_name": "Python 3 (ipykernel)",
   "language": "python",
   "name": "python3"
  },
  "language_info": {
   "codemirror_mode": {
    "name": "ipython",
    "version": 3
   },
   "file_extension": ".py",
   "mimetype": "text/x-python",
   "name": "python",
   "nbconvert_exporter": "python",
   "pygments_lexer": "ipython3",
   "version": "3.8.8"
  }
 },
 "nbformat": 4,
 "nbformat_minor": 5
}
